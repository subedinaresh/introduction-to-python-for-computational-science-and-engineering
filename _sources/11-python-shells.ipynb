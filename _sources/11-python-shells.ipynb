{
 "cells": [
  {
   "cell_type": "markdown",
   "metadata": {},
   "source": [
    "# Python shells\n",
    "\n",
    "## IDLE\n",
    "\n",
    "IDLE comes with every Python distribution and is a useful tool for everyday programming. Its editor provides syntax highlighting.\n",
    "\n",
    "There are two reasons why you might want to use another Python shell, for example:\n",
    "\n",
    "-   While working with the Python prompt, you like auto-completion of variable names, filenames and commands. In that case *IPython* is your tool of choice (see below). IPython does not provide an editor, but you can carry on using the IDLE editor to edit files, or any other editor you like.\n",
    "\n",
    "IPython provides a number of nice features for the more experienced Python programmer, including convenient profiling of code (see <https://ipython.org/>).\n",
    "\n",
    "Recently, some auto-completion has been added to Idle as well (press tab after having typed the first few letters of object names and keywords)."
   ]
  },
  {
   "cell_type": "markdown",
   "metadata": {},
   "source": [
    "## Python (command line)\n",
    "\n",
    "This is the most basic face of the Python shell. It is very similar to the Python prompt in IDLE but there are no menus to click on and no facilities to edit files."
   ]
  },
  {
   "cell_type": "markdown",
   "metadata": {},
   "source": [
    "## Interactive Python (IPython)\n",
    "\n",
    "### IPython console\n",
    "\n",
    "IPython is an improved version of the Python command line. It is a valuable tool and worth exploring it’s capabilities (see <https://ipython.org/ipython-doc/stable/interactive/qtconsole.html>)\n",
    "\n",
    "You will find the following features very useful:\n",
    "\n",
    "-   auto completion\n",
    "    Suppose you want to type <span>`a = range(10)`</span>. Instead of typing all the letters, just type <span>`a = ra`</span> and the press the “Tab” key. Ipython will now show all the possible commands (and variable names) that start with <span>`ra`</span>. If you type a third letter, here <span>`n`</span> and press “Tab” again, Ipython will auto complete and append <span>`ge`</span> automatically.\n",
    "    This works also for variable names and modules.\n",
    "\n",
    "-   To obtain help on a command, we can use Python’s help command. For example: <span>`help(range)`</span>. Ipython provides a shortcut. To achieve the same, it is sufficient to just type the command followed by a question mark: <span>`range?`</span>\n",
    "\n",
    "-   You can relatively easily navigate directories on your computer. For example,\n",
    "\n",
    "    -   <span>`!dir`</span> lists the content of the current directory (same as <span>`ls`</span>)\n",
    "\n",
    "    -   <span>`pwd`</span> shows the current working directory\n",
    "\n",
    "    -   <span>`cd`</span> allows to change directories"
   ]
  },
  {
   "cell_type": "markdown",
   "metadata": {},
   "source": [
    "- In general, using an exclamation mark before the command will pass the command to the shell (not to the Python interpreter).\n",
    "\n",
    "-   You can execute Python programs from ipython using <span>``%run</span>. Suppose you have a file `hello.py` in the current directory. You can then execute it by typing: <span>``%run hello</span>\n",
    "\n",
    "   Note that this differs from executing a python program in IDLE: IDLE restarts the Python interpreter session and thus deletes all existing objects before the execution starts. This is not the case with the <span>`run`</span> command in ipython (and neither when executing chunks of Python code from Emacs using the Emacs Python mode). In particular this can be very useful if one needs to setup a few objects which are needed to test the code one is working on. Using ipython’s <span>`run`</span> or Emacs instead of IDLE allows to keep these objects in the interpreter session and to only update the function/classes/... etc that are being developed.\n",
    "\n",
    "-   allows multi-line editing of command history\n",
    "\n",
    "-   provides on-the-fly syntax highlighting\n",
    "\n",
    "-   displays doc-strings on-the-fly\n",
    "\n",
    "-   can inline matplotlib figures (activate mode with if started with `%matplotlib inline`)\n",
    "\n",
    "-   `%load` loads file from disk or form URL for editing\n",
    "\n",
    "-   `%timeit` measures execution time for a given statement\n",
    "\n",
    "-   …and a lot more.\n",
    "\n",
    "-   Read more at <https://ipython.org/ipython-doc/dev/interactive/qtconsole.html>\n",
    "\n",
    "If you have access to this shell, you may want to consider it as your default Python prompt."
   ]
  },
  {
   "cell_type": "markdown",
   "metadata": {},
   "source": [
    "### Jupyter Notebook\n",
    "\n",
    "The Jupyter Notebook (formerly IPython Notebook) allows you to execute, store, load, re-execute a sequence of Python commands, and to include explanatory text, images and other media in between.\n",
    "\n",
    "This is a recent and exciting development that has the potential to develop into a tool of great significance, for example for\n",
    "\n",
    "-   documenting calculations and data processing\n",
    "\n",
    "-   support learning and teaching of\n",
    "\n",
    "    -   Python itself\n",
    "\n",
    "    -   statistical methods\n",
    "\n",
    "    -   general data post-processing\n",
    "\n",
    "    -   …\n",
    "\n",
    "-   documentation new code\n",
    "\n",
    "-   automatic regression testing by re-running ipython notebook and comparing stored output with computed output\n",
    "\n",
    "**Further reading**\n",
    "\n",
    "-   Jupyter Notebook (<https://jupyter-notebook.readthedocs.io/en/latest/>).\n",
    "\n",
    "-   IPython (<https://ipython.org>)."
   ]
  },
  {
   "cell_type": "markdown",
   "metadata": {},
   "source": [
    "## Spyder\n",
    "\n",
    "Spyder is the Scientific PYthon Development EnviRonment: a powerful interactive development environment for the Python language with advanced editing, interactive testing, debugging and introspection features and a numerical computing environment thanks to the support of IPython (enhanced interactive Python interpreter) and popular Python libraries such as NumPy (linear algebra), SciPy (signal and image processing) or matplotlib (interactive 2D/3D plotting). See <https://www.spyder-ide.org/> for more.\n",
    "\n",
    "Some important features of Spyder:\n",
    "\n",
    "-   Within Spyder, the IPython console is the default Python interpreter, and\n",
    "\n",
    "-   code in the editor can be fully or partially be executed in this buffer.\n",
    "\n",
    "-   The editor supports automatic checking for Python erros using pyflakes, and\n",
    "\n",
    "-   the editor warns (if desired) if the code formatting deviates from the PEP8 style guide.\n",
    "\n",
    "-   The Ipython Debugger can be activated, and\n",
    "\n",
    "-   a profiler is provided.\n",
    "\n",
    "-   An object explorer shows documentation for functions, methods etc on the fly and a\n",
    "\n",
    "-   variable explorer displays names, size and values for numerical variables.\n",
    "\n",
    "Spyder is currently (as of 2014) on the way to develop into a powerful and robust multi-platform integrated environment for Python development, with particular emphasis on Python for scientific computing and engineering.\n",
    "\n",
    "## Editors\n",
    "\n",
    "All major editors that are used for programming, provide Python modes (such as Emacs, Vim, Sublime Text), some Integrated Development Enviroments (IDEs) come with their own editor (Spyder, Eclipse). Which of these is best, is partly a matter of choice.\n",
    "\n",
    "For beginners, Spyder seems a sensible choice as it provides an IDE, allows execution of chunks of code in an interpreter session and is easy to pick up."
   ]
  }
 ],
 "metadata": {
  "kernelspec": {
   "display_name": "Python 3",
   "language": "python",
   "name": "python3"
  },
  "language_info": {
   "codemirror_mode": {
    "name": "ipython",
    "version": 3
   },
   "file_extension": ".py",
   "mimetype": "text/x-python",
   "name": "python",
   "nbconvert_exporter": "python",
   "pygments_lexer": "ipython3",
   "version": "3.8.6-final"
  }
 },
 "nbformat": 4,
 "nbformat_minor": 1
}
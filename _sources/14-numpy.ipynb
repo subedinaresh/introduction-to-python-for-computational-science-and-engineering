{
 "cells": [
  {
   "cell_type": "markdown",
   "metadata": {},
   "source": [
    "# Numerical Python (numpy): arrays\n",
    "\n",
    "## Numpy introduction\n",
    "\n",
    "The NumPy package (read as NUMerical PYthon) provides access to\n",
    "\n",
    "-   a new data structure called `array`s which allow\n",
    "\n",
    "-   efficient vector and matrix operations. It also provides\n",
    "\n",
    "-   a number of linear algebra operations (such as solving of systems of linear equations, computation of Eigenvectors and Eigenvalues).\n",
    "\n",
    "### History\n",
    "\n",
    "Some background information: There are two other implementations that provide nearly the same functionality as NumPy. These are called “Numeric” and “numarray”:\n",
    "\n",
    "-   Numeric was the first provision of a set of numerical methods (similar to Matlab) for Python. It evolved from a PhD project.\n",
    "\n",
    "-   Numarray is a re-implementation of Numeric with certain improvements (but for our purposes both Numeric and Numarray behave virtually identical).\n",
    "\n",
    "-   Early in 2006 it was decided to merge the best aspects of Numeric and Numarray into the Scientific Python (<span>`scipy`</span>) package and to provide (a hopefully “final”) `array` data type under the module name “NumPy”.\n",
    "\n",
    "We will use in the following materials the “NumPy” package as provided by (new) SciPy. If for some reason this doesn’t work for you, chances are that your SciPy is too old. In that case, you will find that either “Numeric” or “numarray” is installed and should provide nearly the same capabilities.[5]\n",
    "\n",
    "### Arrays\n",
    "\n",
    "We introduce a new data type (provided by NumPy) which is called “`array`”. An array *appears* to be very similar to a list but an array can keep only elements of the same type (whereas a list can mix different kinds of objects). This means arrays are more efficient to store (because we don’t need to store the type for every element). It also makes arrays the data structure of choice for numerical calculations where we often deal with vectors and matricies.\n",
    "\n",
    "Vectors and matrices (and matrices with more than two indices) are all called “arrays” in NumPy.\n",
    "\n",
    "#### Vectors (1d-arrays)\n",
    "\n",
    "The data structure we will need most often is a vector. Here are a few examples of how we can generate one:\n",
    "\n",
    "-   Conversion of a list (or tuple) into an array using <span>`numpy.array`</span>:"
   ]
  },
  {
   "cell_type": "code",
   "execution_count": 1,
   "metadata": {},
   "outputs": [
    {
     "name": "stdout",
     "output_type": "stream",
     "text": [
      "[0.  0.5 1.  1.5]\n"
     ]
    }
   ],
   "source": [
    "import numpy as N\n",
    "x = N.array([0, 0.5, 1, 1.5])\n",
    "print(x)"
   ]
  },
  {
   "cell_type": "markdown",
   "metadata": {},
   "source": [
    "-   Creation of a vector using “ArrayRANGE”:"
   ]
  },
  {
   "cell_type": "code",
   "execution_count": 2,
   "metadata": {},
   "outputs": [
    {
     "name": "stdout",
     "output_type": "stream",
     "text": [
      "[0.  0.5 1.  1.5]\n"
     ]
    }
   ],
   "source": [
    "x = N.arange(0, 2, 0.5)\n",
    "print(x)"
   ]
  },
  {
   "cell_type": "markdown",
   "metadata": {},
   "source": [
    "-   Creation of vector with zeros"
   ]
  },
  {
   "cell_type": "code",
   "execution_count": 3,
   "metadata": {},
   "outputs": [
    {
     "name": "stdout",
     "output_type": "stream",
     "text": [
      "[0. 0. 0. 0.]\n"
     ]
    }
   ],
   "source": [
    "x = N.zeros(4)\n",
    "print(x)"
   ]
  },
  {
   "cell_type": "markdown",
   "metadata": {},
   "source": [
    "Once the array is established, we can set and retrieve individual values. For example:"
   ]
  },
  {
   "cell_type": "code",
   "execution_count": 4,
   "metadata": {},
   "outputs": [
    {
     "name": "stdout",
     "output_type": "stream",
     "text": [
      "[3.4 0.  4.  0. ]\n",
      "3.4\n",
      "[3.4 0.  4. ]\n"
     ]
    }
   ],
   "source": [
    "x = N.zeros(4)\n",
    "x[0] = 3.4\n",
    "x[2] = 4\n",
    "print(x)\n",
    "print(x[0])\n",
    "print(x[0:-1])"
   ]
  },
  {
   "cell_type": "markdown",
   "metadata": {},
   "source": [
    "Note that once we have a vector we can perform calculations on every element in the vector with a single statement:"
   ]
  },
  {
   "cell_type": "code",
   "execution_count": 5,
   "metadata": {},
   "outputs": [
    {
     "name": "stdout",
     "output_type": "stream",
     "text": [
      "[0.  0.5 1.  1.5]\n",
      "[10.  10.5 11.  11.5]\n",
      "[0.   0.25 1.   2.25]\n",
      "[0.         0.47942554 0.84147098 0.99749499]\n"
     ]
    }
   ],
   "source": [
    "x = N.arange(0, 2, 0.5)\n",
    "print(x)\n",
    "print(x + 10)\n",
    "print(x ** 2)\n",
    "print(N.sin(x))"
   ]
  },
  {
   "cell_type": "markdown",
   "metadata": {},
   "source": [
    "#### Matrices (2d-arrays)\n",
    "\n",
    "Here are two ways to create a 2d-array:\n",
    "\n",
    "-   By converting a list of lists (or tuples) into an array:"
   ]
  },
  {
   "cell_type": "code",
   "execution_count": 6,
   "metadata": {},
   "outputs": [
    {
     "data": {
      "text/plain": [
       "array([[1, 2, 3],\n",
       "       [4, 5, 6]])"
      ]
     },
     "execution_count": 6,
     "metadata": {},
     "output_type": "execute_result"
    }
   ],
   "source": [
    "x = N.array([[1, 2, 3], [4, 5, 6]])\n",
    "x"
   ]
  },
  {
   "cell_type": "markdown",
   "metadata": {},
   "source": [
    "-   Using the <span>`zeros`</span> method to create a matrix with 5 rows and 4 columns"
   ]
  },
  {
   "cell_type": "code",
   "execution_count": 7,
   "metadata": {},
   "outputs": [
    {
     "data": {
      "text/plain": [
       "array([[0., 0., 0., 0.],\n",
       "       [0., 0., 0., 0.],\n",
       "       [0., 0., 0., 0.],\n",
       "       [0., 0., 0., 0.],\n",
       "       [0., 0., 0., 0.]])"
      ]
     },
     "execution_count": 7,
     "metadata": {},
     "output_type": "execute_result"
    }
   ],
   "source": [
    "x = N.zeros((5, 4))\n",
    "x"
   ]
  },
  {
   "cell_type": "markdown",
   "metadata": {},
   "source": [
    "The “shape” of a matrix can be queried like this (here we have 2 rows and 3 columns):"
   ]
  },
  {
   "cell_type": "code",
   "execution_count": 8,
   "metadata": {},
   "outputs": [
    {
     "name": "stdout",
     "output_type": "stream",
     "text": [
      "[[1 2 3]\n",
      " [4 5 6]]\n"
     ]
    },
    {
     "data": {
      "text/plain": [
       "(2, 3)"
      ]
     },
     "execution_count": 8,
     "metadata": {},
     "output_type": "execute_result"
    }
   ],
   "source": [
    "x=N.array([[1, 2, 3], [4, 5, 6]])\n",
    "print(x)\n",
    "x.shape"
   ]
  },
  {
   "cell_type": "markdown",
   "metadata": {},
   "source": [
    "Individual elements can be accessed and set using this syntax:"
   ]
  },
  {
   "cell_type": "code",
   "execution_count": 9,
   "metadata": {},
   "outputs": [
    {
     "data": {
      "text/plain": [
       "1"
      ]
     },
     "execution_count": 9,
     "metadata": {},
     "output_type": "execute_result"
    }
   ],
   "source": [
    "x=N.array([[1, 2, 3], [4, 5, 6]])\n",
    "x[0, 0] "
   ]
  },
  {
   "cell_type": "code",
   "execution_count": 10,
   "metadata": {},
   "outputs": [
    {
     "data": {
      "text/plain": [
       "2"
      ]
     },
     "execution_count": 10,
     "metadata": {},
     "output_type": "execute_result"
    }
   ],
   "source": [
    "x[0, 1]"
   ]
  },
  {
   "cell_type": "code",
   "execution_count": 11,
   "metadata": {},
   "outputs": [
    {
     "data": {
      "text/plain": [
       "3"
      ]
     },
     "execution_count": 11,
     "metadata": {},
     "output_type": "execute_result"
    }
   ],
   "source": [
    "x[0, 2]"
   ]
  },
  {
   "cell_type": "code",
   "execution_count": 12,
   "metadata": {},
   "outputs": [
    {
     "data": {
      "text/plain": [
       "4"
      ]
     },
     "execution_count": 12,
     "metadata": {},
     "output_type": "execute_result"
    }
   ],
   "source": [
    "x[1, 0]"
   ]
  },
  {
   "cell_type": "code",
   "execution_count": 13,
   "metadata": {},
   "outputs": [
    {
     "data": {
      "text/plain": [
       "array([1, 4])"
      ]
     },
     "execution_count": 13,
     "metadata": {},
     "output_type": "execute_result"
    }
   ],
   "source": [
    "x[:, 0]"
   ]
  },
  {
   "cell_type": "code",
   "execution_count": 14,
   "metadata": {},
   "outputs": [
    {
     "data": {
      "text/plain": [
       "array([1, 2, 3])"
      ]
     },
     "execution_count": 14,
     "metadata": {},
     "output_type": "execute_result"
    }
   ],
   "source": [
    "x[0,:]"
   ]
  },
  {
   "cell_type": "markdown",
   "metadata": {},
   "source": [
    "### Convert from array to list or tuple\n",
    "\n",
    "To create an array back to a list or tuple, we can use the standard python functions <span>`list(s)`</span> and <span>`tuple(s)`</span> which take a sequence <span>`s`</span> as the input argument and return a list and tuple, respectively:"
   ]
  },
  {
   "cell_type": "code",
   "execution_count": 15,
   "metadata": {},
   "outputs": [
    {
     "data": {
      "text/plain": [
       "array([ 1,  4, 10])"
      ]
     },
     "execution_count": 15,
     "metadata": {},
     "output_type": "execute_result"
    }
   ],
   "source": [
    "a = N.array([1, 4, 10])\n",
    "a"
   ]
  },
  {
   "cell_type": "code",
   "execution_count": 16,
   "metadata": {},
   "outputs": [
    {
     "data": {
      "text/plain": [
       "[1, 4, 10]"
      ]
     },
     "execution_count": 16,
     "metadata": {},
     "output_type": "execute_result"
    }
   ],
   "source": [
    "list(a)"
   ]
  },
  {
   "cell_type": "code",
   "execution_count": 17,
   "metadata": {},
   "outputs": [
    {
     "data": {
      "text/plain": [
       "(1, 4, 10)"
      ]
     },
     "execution_count": 17,
     "metadata": {},
     "output_type": "execute_result"
    }
   ],
   "source": [
    "tuple(a)"
   ]
  },
  {
   "cell_type": "markdown",
   "metadata": {},
   "source": [
    "### Standard Linear Algebra operations\n",
    "\n",
    "#### Maxtrix multiplication\n",
    "\n",
    "Two arrays can be multiplied in the usual linear-algebra way using <span>`numpy.matrixmultiply`</span>. Here is an example:"
   ]
  },
  {
   "cell_type": "code",
   "execution_count": 18,
   "metadata": {},
   "outputs": [],
   "source": [
    "import numpy as N\n",
    "import numpy.random       \n",
    "A = numpy.random.rand(5, 5)    # generates a random 5 by 5 matrix \n",
    "x = numpy.random.rand(5)       # generates a 5-element vector\n",
    "b=N.dot(A, x)                  # multiply matrix A with vector x "
   ]
  },
  {
   "cell_type": "markdown",
   "metadata": {},
   "source": [
    "#### Solving systems of linear equations\n",
    "\n",
    "To solve a system of equations *A***x** = **b** that is given in matrix form (*i.e* *A* is a matrix and **x** and **b** are vectors where *A* and **b** are known and we want to find the unknown vector **x**), we can use the linear algebra package (<span>`linalg`</span>) of <span>`numpy`</span>:"
   ]
  },
  {
   "cell_type": "code",
   "execution_count": 19,
   "metadata": {},
   "outputs": [],
   "source": [
    "import numpy.linalg as LA\n",
    "x = LA.solve(A, b)"
   ]
  },
  {
   "cell_type": "markdown",
   "metadata": {},
   "source": [
    "#### Computing Eigenvectors and Eigenvalues\n",
    "\n",
    "Here is a small example that computes the \\[trivial\\] Eigenvectors and Eigenvalues (<span>`eig`</span>) of the unity matrix (<span>`eye`</span>)):"
   ]
  },
  {
   "cell_type": "code",
   "execution_count": 20,
   "metadata": {},
   "outputs": [
    {
     "name": "stdout",
     "output_type": "stream",
     "text": [
      "[[1. 0. 0.]\n",
      " [0. 1. 0.]\n",
      " [0. 0. 1.]]\n"
     ]
    }
   ],
   "source": [
    "import numpy\n",
    "import numpy.linalg as LA\n",
    "A = numpy.eye(3)     #'eye'->I->1 (ones on the diagonal)\n",
    "print(A)"
   ]
  },
  {
   "cell_type": "code",
   "execution_count": 21,
   "metadata": {},
   "outputs": [
    {
     "name": "stdout",
     "output_type": "stream",
     "text": [
      "[1. 1. 1.]\n"
     ]
    }
   ],
   "source": [
    "evalues, evectors = LA.eig(A)\n",
    "print(evalues)"
   ]
  },
  {
   "cell_type": "code",
   "execution_count": 22,
   "metadata": {},
   "outputs": [
    {
     "name": "stdout",
     "output_type": "stream",
     "text": [
      "[[1. 0. 0.]\n",
      " [0. 1. 0.]\n",
      " [0. 0. 1.]]\n"
     ]
    }
   ],
   "source": [
    "print(evectors)"
   ]
  },
  {
   "cell_type": "markdown",
   "metadata": {},
   "source": [
    "Note that each of these commands provides its own documentation. For example, <span>`help(LA.eig)`</span> will tell you all about the eigenvector and eigenvalue function (once you have imported `numpy.linalg` as `LA`)."
   ]
  },
  {
   "cell_type": "markdown",
   "metadata": {},
   "source": [
    "#### Curve fitting of polynomials\n",
    "\n",
    "Let’s assume we have x-y data to which we like to fit a curve (to minimise the least square deviation of the fit from the data).\n",
    "\n",
    "Numpy provides the routine <span>`polyfit(x,y,n)`</span> (which is similar to Matlab’s `polyfit` function which takes a list <span>`x`</span> of x-values for data points, a list <span>`y`</span> of y-values of the same data points and a desired order of the polynomial that will be determined to fit the data in the least-square sense as well as possible."
   ]
  },
  {
   "cell_type": "code",
   "execution_count": 23,
   "metadata": {},
   "outputs": [
    {
     "data": {
      "text/plain": [
       "Text(0.5,0,'x')"
      ]
     },
     "execution_count": 23,
     "metadata": {},
     "output_type": "execute_result"
    },
    {
     "data": {
      "image/png": "[encoded data removed]",
      "text/plain": [
       "<Figure size 432x288 with 1 Axes>"
      ]
     },
     "metadata": {
      "needs_background": "light"
     },
     "output_type": "display_data"
    }
   ],
   "source": [
    "%matplotlib inline\n",
    "import numpy\n",
    "\n",
    "# demo curve fitting : xdata and ydata are input data\n",
    "xdata = numpy.array([0.0 , 1.0 , 2.0 , 3.0 , 4.0 , 5.0])\n",
    "ydata = numpy.array([0.0 , 0.8 , 0.9 , 0.1 , -0.8 , -1.0])\n",
    "# now do fit for cubic (order = 3) polynomial\n",
    "z = numpy.polyfit(xdata, ydata, 3)\n",
    "# z is an array of coefficients , highest first , i . e .\n",
    "#                 X^3            X^2          X             0\n",
    "# z = array ([ 0.08703704 , -0.81349206 , 1.69312169 , -0.03968254])\n",
    "# It is convenient to use ‘poly1d‘ objects for dealing with polynomials:\n",
    "p = numpy.poly1d(z) # creates a polynomial function p from coefficients\n",
    "                    # and p can be evaluated for all x then .\n",
    "\n",
    "# create plot\n",
    "xs = [0.1 * i for i in range (50)]\n",
    "ys = [p ( x ) for x in xs]   # evaluate p(x) for all x in list xs\n",
    "\n",
    "import pylab\n",
    "pylab.plot(xdata, ydata, 'o', label='data')\n",
    "pylab.plot(xs, ys, label='fitted curve')\n",
    "pylab.ylabel('y')\n",
    "pylab.xlabel('x')"
   ]
  },
  {
   "cell_type": "markdown",
   "metadata": {},
   "source": [
    "This shows the fitted curve (solid line) together with the precise computed data points."
   ]
  },
  {
   "cell_type": "markdown",
   "metadata": {},
   "source": [
    "### More numpy examples…\n",
    "\n",
    "…can be found here: <https://numpy.org/doc/stable/reference/routines.html>\n",
    "\n",
    "### Numpy for Matlab users\n",
    "\n",
    "There is a dedicated webpage that explains Numpy from the perspective of a (experienced) Matlab user at https://numpy.org/doc/stable/user/numpy-for-matlab-users.html."
   ]
  }
 ],
 "metadata": {
  "kernelspec": {
   "display_name": "Python 3",
   "language": "python",
   "name": "python3"
  },
  "language_info": {
   "codemirror_mode": {
    "name": "ipython",
    "version": 3
   },
   "file_extension": ".py",
   "mimetype": "text/x-python",
   "name": "python",
   "nbconvert_exporter": "python",
   "pygments_lexer": "ipython3",
   "version": "3.8.6-final"
  }
 },
 "nbformat": 4,
 "nbformat_minor": 2
}
